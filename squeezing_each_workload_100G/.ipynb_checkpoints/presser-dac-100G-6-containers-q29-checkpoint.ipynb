{
 "cells": [
  {
   "cell_type": "code",
   "execution_count": 1,
   "id": "6f0cd2fe",
   "metadata": {},
   "outputs": [
    {
     "name": "stdout",
     "output_type": "stream",
     "text": [
      "文件完整路径：/home/lemaker/open-source/Lab/Pressor/papers_data/sigmod/static-squeezing/q21-sigmod-6containers-100G/q21-sigmod-6containers-100G-time-2022-09-27-14-04/q21-sigmod-6containers-100G-time-2022-09-27-14-04-hadoop-slave1.1.csv\n",
      "\n"
     ]
    }
   ],
   "source": [
    "import pandas as pd\n",
    "import os\n",
    "import random\n",
    "import threading\n",
    "import time\n",
    "import datetime\n",
    "import csv\n",
    "import matplotlib.pyplot as plt\n",
    "import numpy as np\n",
    "\n",
    "# work_dir = '/home/lemaker/open-source/Lab/Pressor/papers_data/0630/five_adjust_500-dy/five_adjust_500-dy-time-2022-06-30-11-31/'\n",
    "   \n",
    "\n",
    "# work_dir = '/home/lemaker/open-source/Lab/Pressor/papers_data/sigmod/sig-press-static-20-500G/sig-press-static-20-500G-time-2022-09-24-20-35/'\n",
    "\n",
    "\n",
    "# work_dir = '/home/lemaker/open-source/Lab/Pressor/papers_data/sigmod/sig-press-static-20-500G/sig-press-static-20-500G-time-2022-09-25-12-34/'\n",
    "\n",
    "# work_dir='/home/lemaker/open-source/Lab/Pressor/papers_data/sigmod/sig-press-static-20-500G/sig-press-static-20-500G-time-2022-09-25-13-47/'\n",
    "\n",
    "# work_dir='/home/lemaker/open-source/Lab/Pressor/papers_data/sigmod/sig-press-static-20-500G/sig-press-static-20-500G-time-2022-09-26-08-42/'\n",
    "\n",
    "\n",
    "work_dir='/home/lemaker/open-source/Lab/Pressor/papers_data/sigmod/static-squeezing/q21-sigmod-6containers-100G/q21-sigmod-6containers-100G-time-2022-09-27-14-04/'\n",
    "def get_time_second(str):\n",
    "    try:\n",
    "        time_in_second = time.mktime(time.strptime(str, '%Y-%m-%d %H:%M:%S'))\n",
    "        return time_in_second\n",
    "    except Exception as e:\n",
    "        print(e)\n",
    "\n",
    "def empty_string(item):\n",
    "    return len(str(item).strip()) == 0\n",
    "\n",
    "def aggregate_cpu_resources(workload):\n",
    "    filenames = os.listdir(work_dir)\n",
    "\n",
    "    csv_slave1 = []\n",
    "    csv_slave2 = []\n",
    "    csv_slave3 = []\n",
    "    csv_slave4 = []\n",
    "    csv_slave5 = []\n",
    "    csv_slave6 = []\n",
    "    csv_slave7 = []\n",
    "    csv_slave8 = []\n",
    "    csv_slave9 = []\n",
    "    csv_slave10 = []\n",
    "    csv_slave11 = []\n",
    "    csv_slave12 = []\n",
    "    csv_slave13 = []\n",
    "    csv_slave14 = []\n",
    "\n",
    "    cnt = 0\n",
    "    cpu_capacity = 50*100\n",
    "    left_cpu_capacity = cpu_capacity\n",
    "    for filename in filenames:\n",
    "        file_path = os.path.join(work_dir, filename)\n",
    "       # print('文件名：%s' % filename)\n",
    "        \n",
    "        if workload in filename and 'hadoop-slave1.1.csv' in filename:\n",
    "            print('文件完整路径：%s\\n' % file_path)\n",
    "            with open(file_path) as f:\n",
    "                temp = csv.reader(f)\n",
    "                for row in temp:\n",
    "                    csv_slave1.append(row)\n",
    "                cnt=cnt+1\n",
    "                \n",
    "        if workload in filename and 'hadoop-slave2' in filename:\n",
    "#             print('文件完整路径：%s\\n' % file_path)\n",
    "            with open(file_path) as f:\n",
    "                temp = csv.reader(f)\n",
    "                for row in temp:\n",
    "                    csv_slave2.append(row)\n",
    "                cnt=cnt+1\n",
    "        \n",
    "        if workload in filename and 'hadoop-slave3' in filename:\n",
    "#             print('文件完整路径：%s\\n' % file_path)\n",
    "            with open(file_path) as f:\n",
    "                temp = csv.reader(f)\n",
    "                for row in temp:\n",
    "                    csv_slave3.append(row)\n",
    "                cnt=cnt+1\n",
    "                \n",
    "        if workload in filename and 'hadoop-slave4' in filename:\n",
    "#             print('文件完整路径：%s\\n' % file_path)\n",
    "            with open(file_path) as f:\n",
    "                temp = csv.reader(f)\n",
    "                for row in temp:\n",
    "                    csv_slave4.append(row)\n",
    "                cnt=cnt+1\n",
    "         \n",
    "    \n",
    "        if workload in filename and 'hadoop-slave5' in filename:\n",
    "#             print('文件完整路径：%s\\n' % file_path)\n",
    "            with open(file_path) as f:\n",
    "                temp = csv.reader(f)\n",
    "                for row in temp:\n",
    "                    csv_slave5.append(row)\n",
    "                cnt=cnt+1\n",
    "                \n",
    "        if workload in filename and 'hadoop-slave6' in filename:\n",
    "#             print('文件完整路径：%s\\n' % file_path)\n",
    "            with open(file_path) as f:\n",
    "                temp = csv.reader(f)\n",
    "                for row in temp:\n",
    "                    csv_slave6.append(row)\n",
    "                cnt=cnt+1\n",
    "        \n",
    "        if workload in filename and 'hadoop-slave7' in filename:\n",
    "#             print('文件完整路径：%s\\n' % file_path)\n",
    "            with open(file_path) as f:\n",
    "                temp = csv.reader(f)\n",
    "                for row in temp:\n",
    "                    csv_slave7.append(row)\n",
    "                cnt=cnt+1\n",
    "        \n",
    "        if workload in filename and 'hadoop-slave8' in filename:\n",
    "#             print('文件完整路径：%s\\n' % file_path)\n",
    "            with open(file_path) as f:\n",
    "                temp = csv.reader(f)\n",
    "                for row in temp:\n",
    "                    csv_slave8.append(row)\n",
    "                cnt=cnt+1\n",
    "                \n",
    "        if workload in filename and 'hadoop-slave9' in filename:\n",
    "#             print('文件完整路径：%s\\n' % file_path)\n",
    "            with open(file_path) as f:\n",
    "                temp = csv.reader(f)\n",
    "                for row in temp:\n",
    "                    csv_slave9.append(row)\n",
    "                cnt=cnt+1\n",
    "                \n",
    "        if workload in filename and 'hadoop-slave10' in filename:\n",
    "#             print('文件完整路径：%s\\n' % file_path)\n",
    "            with open(file_path) as f:\n",
    "                temp = csv.reader(f)\n",
    "                for row in temp:\n",
    "                    csv_slave10.append(row)\n",
    "                cnt=cnt+1\n",
    "        \n",
    "        if workload in filename and 'hadoop-slave11' in filename:\n",
    "#             print('文件完整路径：%s\\n' % file_path)\n",
    "            with open(file_path) as f:\n",
    "                temp = csv.reader(f)\n",
    "                for row in temp:\n",
    "                    csv_slave11.append(row)\n",
    "                cnt=cnt+1\n",
    "                \n",
    "        if workload in filename and 'hadoop-slave12' in filename:\n",
    "#             print('文件完整路径：%s\\n' % file_path)\n",
    "            with open(file_path) as f:\n",
    "                temp = csv.reader(f)\n",
    "                for row in temp:\n",
    "                    csv_slave12.append(row)\n",
    "                cnt=cnt+1\n",
    "                \n",
    "        if workload in filename and 'hadoop-slave13' in filename:\n",
    "#             print('文件完整路径：%s\\n' % file_path)\n",
    "            with open(file_path) as f:\n",
    "                temp = csv.reader(f)\n",
    "                for row in temp:\n",
    "                    csv_slave13.append(row)\n",
    "                cnt=cnt+1\n",
    "        \n",
    "        if workload in filename and 'hadoop-slave14' in filename:\n",
    "#             print('文件完整路径：%s\\n' % file_path)\n",
    "            with open(file_path) as f:\n",
    "                temp = csv.reader(f)\n",
    "                for row in temp:\n",
    "                    csv_slave14.append(row)\n",
    "                cnt=cnt+1\n",
    "        \n",
    "    if cnt < 13:\n",
    "        return\n",
    "    return [[],csv_slave1,csv_slave2,csv_slave3,csv_slave4,csv_slave5,csv_slave6,csv_slave7,\n",
    "            csv_slave8,csv_slave9,csv_slave10,csv_slave11, csv_slave12,csv_slave13,csv_slave14]\n",
    "\n",
    "csv_data=aggregate_cpu_resources(\"hadoop\")"
   ]
  },
  {
   "cell_type": "code",
   "execution_count": 31,
   "id": "ab4ebe9d",
   "metadata": {},
   "outputs": [
    {
     "name": "stdout",
     "output_type": "stream",
     "text": [
      "15\n"
     ]
    }
   ],
   "source": [
    "print(len(csv_data))"
   ]
  },
  {
   "cell_type": "code",
   "execution_count": 2,
   "id": "62298f38",
   "metadata": {},
   "outputs": [
    {
     "data": {
      "text/plain": [
       "<Figure size 432x1872 with 0 Axes>"
      ]
     },
     "metadata": {},
     "output_type": "display_data"
    },
    {
     "data": {
      "image/png": "[encoded data removed]",
      "text/plain": [
       "<Figure size 432x288 with 1 Axes>"
      ]
     },
     "metadata": {
      "needs_background": "light"
     },
     "output_type": "display_data"
    },
    {
     "data": {
      "image/png": "[encoded data removed]",
      "text/plain": [
       "<Figure size 432x288 with 1 Axes>"
      ]
     },
     "metadata": {
      "needs_background": "light"
     },
     "output_type": "display_data"
    }
   ],
   "source": [
    "headers = ['time', 'container_id', 'container_name', 'CPU', 'mem_usage','','mem_capacity','mem%','NET input','','NEToutput','Block input','','Block output','PIDS']\n",
    "# csv_slave1 = pd.DataFrame(csv_slave1,columns=headers)\n",
    "# csv_slave1.rename(columns=csv_slave1.iloc[0], inplace = True)\n",
    "# csv_slave1.drop([0], inplace = True)\n",
    "\n",
    "slaves = [[]]\n",
    "for i in range(1,15):\n",
    "    temp_pd = pd.DataFrame(csv_data[i],columns=headers)\n",
    "    \n",
    "    temp_pd.drop([0], inplace = True)\n",
    "    if len(temp_pd) ==0 :\n",
    "        print(i)\n",
    "    temp_pd['time'] = pd.to_datetime(temp_pd['time'])\n",
    "    slaves.append(temp_pd)\n",
    "    \n",
    "# slaves[14]\n",
    "    \n",
    "\n",
    "max_start_time=0\n",
    "for i in range(1,15):\n",
    "    if i==1:\n",
    "        max_start_time = slaves[1].iloc[0]['time']\n",
    "    else:\n",
    "        max_start_time = max(max_start_time, slaves[i].iloc[0]['time'])\n",
    "\n",
    "# max_start_time = max(max_start_time, max(slaves[8].iloc[0]['time'],   slaves[9].iloc[0]['time']))\n",
    "for i in range(1,15):\n",
    "    slaves[i].drop(slaves[i][slaves[i].time < max_start_time].index, inplace=True)\n",
    "\n",
    "\n",
    "# df_result = pd.DataFrame(columns=['slave1CPU', 'slave2CPU', 'slave3CPU','slave4CPU',\n",
    "#                                   'slave5CPU','slave6CPU','sum_CPU'])\n",
    "\n",
    "df_result = pd.DataFrame()\n",
    "\n",
    "df_result['slave1time']=slaves[1]['time']\n",
    "df_result['slave1CPU']=slaves[1]['CPU'].str.strip('%').astype(float)\n",
    "df_result['slave1Mem']=slaves[1]['mem_usage'].astype(float)\n",
    "\n",
    "df_result['slave2time']=slaves[2]['time']\n",
    "df_result['slave2CPU']=slaves[2]['CPU'].str.strip('%').astype(float)\n",
    "df_result['slave2Mem']=slaves[2]['mem_usage'].astype(float)\n",
    "\n",
    "\n",
    "df_result['slave3time']=slaves[3]['time']\n",
    "df_result['slave3CPU']=slaves[3]['CPU'].str.strip('%').astype(float)\n",
    "df_result['slave3Mem']=slaves[3]['mem_usage'].astype(float)\n",
    "\n",
    "\n",
    "df_result['slave4time']=slaves[4]['time']\n",
    "df_result['slave4CPU']=slaves[4]['CPU'].str.strip('%').astype(float)\n",
    "df_result['slave4Mem']=slaves[4]['mem_usage'].astype(float)\n",
    "\n",
    "\n",
    "df_result['slave5time']=slaves[5]['time']\n",
    "df_result['slave5CPU']=slaves[5]['CPU'].str.strip('%').astype(float)\n",
    "df_result['slave5Mem']=slaves[5]['mem_usage'].astype(float)\n",
    "\n",
    "\n",
    "df_result['slave6time']=slaves[6]['time']\n",
    "df_result['slave6CPU']=slaves[6]['CPU'].str.strip('%').astype(float)\n",
    "df_result['slave6Mem']=slaves[6]['mem_usage'].astype(float)\n",
    "\n",
    "df_result['slave7time']=slaves[7]['time']\n",
    "df_result['slave7CPU']=slaves[7]['CPU'].str.strip('%').astype(float)\n",
    "df_result['slave7Mem']=slaves[7]['mem_usage'].astype(float)\n",
    "\n",
    "df_result['slave8time']=slaves[8]['time']\n",
    "df_result['slave8CPU']=slaves[8]['CPU'].str.strip('%').astype(float)\n",
    "df_result['slave8Mem']=slaves[8]['mem_usage'].astype(float)\n",
    "\n",
    "df_result['slave9time']=slaves[9]['time']\n",
    "df_result['slave9CPU']=slaves[9]['CPU'].str.strip('%').astype(float)\n",
    "df_result['slave9Mem']=slaves[9]['mem_usage'].astype(float)\n",
    "\n",
    "df_result['slave10time']=slaves[10]['time']\n",
    "df_result['slave10CPU']=slaves[10]['CPU'].str.strip('%').astype(float)\n",
    "df_result['slave10Mem']=slaves[10]['mem_usage'].astype(float)\n",
    "\n",
    "df_result['slave11time']=slaves[11]['time']\n",
    "df_result['slave11CPU']=slaves[11]['CPU'].str.strip('%').astype(float)\n",
    "df_result['slave11Mem']=slaves[11]['mem_usage'].astype(float)\n",
    "\n",
    "df_result['slave12time']=slaves[12]['time']\n",
    "df_result['slave12CPU']=slaves[12]['CPU'].str.strip('%').astype(float)\n",
    "df_result['slave12Mem']=slaves[12]['mem_usage'].astype(float)\n",
    "\n",
    "df_result['slave13time']=slaves[13]['time']\n",
    "df_result['slave13CPU']=slaves[13]['CPU'].str.strip('%').astype(float)\n",
    "df_result['slave13Mem']=slaves[13]['mem_usage'].astype(float)\n",
    "\n",
    "df_result['slave14time']=slaves[14]['time']\n",
    "df_result['slave14CPU']=slaves[14]['CPU'].str.strip('%').astype(float)\n",
    "df_result['slave14Mem']=slaves[14]['mem_usage'].astype(float)\n",
    "\n",
    "\n",
    "for i in range(1,15):\n",
    "    index_cpu = \"slave\"+str(i)+\"CPU\"\n",
    "    index_mem = \"slave\"+str(i)+\"Mem\"\n",
    "    if i == 1:\n",
    "        df_result['sum_CPU'] = df_result['slave1CPU']\n",
    "        df_result['sum_Mem'] = df_result['slave1Mem'] \n",
    "    else:\n",
    "        df_result['sum_CPU'] =  df_result['sum_CPU'] + df_result[str(index_cpu)]\n",
    "        df_result['sum_Mem'] =  df_result['sum_Mem']  + df_result[str(index_mem)]\n",
    "\n",
    "# df_result['sum_CPU'] = df_result['slave1CPU'] + \\\n",
    "#                      df_result['slave2CPU'] + df_result['slave3CPU'] + \\\n",
    "#                      df_result['slave4CPU'] + df_result['slave5CPU'] + df_result['slave6CPU'] + \\\n",
    "#                      df_result['slave7CPU'] + df_result['slave8CPU'] + df_result['slave9CPU']\n",
    "\n",
    "# df_result['sum_Mem'] = df_result['slave1Mem'] + \\\n",
    "#                      df_result['slave2Mem'] + df_result['slave3Mem'] + \\\n",
    "#                      df_result['slave4Mem'] + df_result['slave5Mem'] + df_result['slave6Mem'] + \\\n",
    "#                      df_result['slave7Mem'] + df_result['slave8Mem'] + df_result['slave9Mem']\n",
    "\n",
    "\n",
    "\n",
    "# ts = pd.Series(df_result['slave1CPU'], index=df_result['slave1time'])\n",
    "# ts = ts.cumsum()\n",
    "# ts.plot();\n",
    "\n",
    "# df_result.plot(x=\"slave1time\", y=[\"slave1CPU\", \"slave2CPU\", \n",
    "#                                   \"slave7CPU\",\"slave8CPU\",\"sum_CPU\"])\n",
    "\n",
    "plt.figure(figsize=(6,26))\n",
    "\n",
    "df_result.plot(x=\"slave1time\", y=[\"slave7CPU\",\"slave8CPU\",\"slave9CPU\",\"sum_CPU\"])\n",
    "\n",
    "df_result.plot(x=\"slave1time\", y=[\"slave1CPU\",\"slave10CPU\",\"slave13CPU\",\"sum_CPU\"])\n",
    "\n",
    "\n",
    "# df_result.plot(x=\"slave1time\", y=[\"slave1CPU\", \"slave2CPU\", \"slave3CPU\",\"slave4CPU\",\n",
    "#                                   \"slave5CPU\",\"slave6CPU\",\"slave7CPU\",\"slave8CPU\",\"sum_CPU\"])\n",
    "plt.show()\n"
   ]
  },
  {
   "cell_type": "code",
   "execution_count": 3,
   "id": "f69fda8f",
   "metadata": {},
   "outputs": [
    {
     "data": {
      "text/plain": [
       "20.519999999999982"
      ]
     },
     "execution_count": 3,
     "metadata": {},
     "output_type": "execute_result"
    }
   ],
   "source": [
    "# press_five_tpcds_500G_result= pd.read_pickle(\"./five_adjust_cpu_14containers_presser-static-500G.pkl\")  \n",
    "# press_five_tpcds_500G_result['sum_CPU'] = press_five_tpcds_500G_result['sum_CPU'] / 100\n",
    "df_result['sum_CPU'] = df_result['sum_CPU'] /100\n",
    "peak_used_cpu_cores = df_result['sum_CPU'].max()\n",
    "df_result['sum_CPU'].describe()\n",
    "# press_five_tpcds_500G_result.drop(press_five_tpcds_500G_result.loc[press_five_tpcds_500G_result.index>400].index, inplace=True)\n",
    "peak_used_mem = df_result['sum_Mem'].max() - df_result['sum_Mem'].min()\n",
    "peak_used_mem"
   ]
  },
  {
   "cell_type": "code",
   "execution_count": 4,
   "id": "49f91de5",
   "metadata": {},
   "outputs": [
    {
     "data": {
      "text/plain": [
       "count     37.000000\n",
       "mean     194.777395\n",
       "std        6.398530\n",
       "min      188.476530\n",
       "25%      189.696530\n",
       "50%      193.406530\n",
       "75%      195.586530\n",
       "max      208.996530\n",
       "Name: sum_Mem, dtype: float64"
      ]
     },
     "execution_count": 4,
     "metadata": {},
     "output_type": "execute_result"
    }
   ],
   "source": [
    "df_result['sum_Mem'].describe()"
   ]
  },
  {
   "cell_type": "code",
   "execution_count": 5,
   "id": "3e6fcc7e",
   "metadata": {},
   "outputs": [
    {
     "data": {
      "text/plain": [
       "<AxesSubplot:xlabel='slave1time'>"
      ]
     },
     "execution_count": 5,
     "metadata": {},
     "output_type": "execute_result"
    },
    {
     "data": {
      "image/png": "[encoded data removed]",
      "text/plain": [
       "<Figure size 432x288 with 1 Axes>"
      ]
     },
     "metadata": {
      "needs_background": "light"
     },
     "output_type": "display_data"
    }
   ],
   "source": [
    "df_result.plot(x=\"slave1time\", y=[\"sum_Mem\"])\n"
   ]
  },
  {
   "cell_type": "code",
   "execution_count": 11,
   "id": "19f52a4e",
   "metadata": {},
   "outputs": [
    {
     "data": {
      "text/plain": [
       "count     27.000000\n",
       "mean     190.723826\n",
       "std        4.286973\n",
       "min      186.137530\n",
       "25%      186.307530\n",
       "50%      189.517530\n",
       "75%      195.747530\n",
       "max      195.897530\n",
       "Name: sum_Mem, dtype: float64"
      ]
     },
     "execution_count": 11,
     "metadata": {},
     "output_type": "execute_result"
    }
   ],
   "source": [
    "df_result['sum_Mem'].describe()\n"
   ]
  },
  {
   "cell_type": "code",
   "execution_count": 6,
   "id": "605e876e",
   "metadata": {},
   "outputs": [
    {
     "name": "stdout",
     "output_type": "stream",
     "text": [
      "peak_used_cpu_cores:  73, peak_used_mem is 20 G\n",
      "squeezed_cores:  0.0, squeezed_mem is 58.0 G\n",
      "adj_executor_instances:  13 \n",
      "adj_cores_per_executor:  5 , adj_mem_per_executor is 2\n",
      "cores_saved_ratio:  0.0 %, mem_saved_ratio is 74.35897435897436 %\n"
     ]
    }
   ],
   "source": [
    "peak_used_cpu_cores=int(peak_used_cpu_cores)\n",
    "peak_used_mem=int(peak_used_mem)\n",
    "print(\"peak_used_cpu_cores:  {}, peak_used_mem is {} G\".format(peak_used_cpu_cores,peak_used_mem))\n",
    "\n",
    "\n",
    "import math\n",
    "dac_instances = 13\n",
    "dac_executor_cores=5 \n",
    "dac_executor_mem=6# GB\n",
    "cpu_a= dac_instances*dac_executor_cores\n",
    "mem_a = int(dac_instances*dac_executor_mem)\n",
    "squeezed_cores =float(max(0, cpu_a - peak_used_cpu_cores))\n",
    "squeezed_mem = float(max(0, mem_a - peak_used_mem))\n",
    "\n",
    "adj_cores_per_executor = dac_executor_cores\n",
    "adj_mem_per_executor = dac_executor_mem\n",
    "adj_executor_instances = dac_instances\n",
    "\n",
    "if squeezed_cores < dac_executor_cores or squeezed_mem < dac_executor_mem:\n",
    "        adj_cores_per_executor = dac_executor_cores - math.floor(squeezed_cores/dac_instances)\n",
    "        adj_mem_per_executor = dac_executor_mem - math.floor(squeezed_mem/dac_instances)\n",
    "else:\n",
    "        reduced_exeutors_cpu = math.floor(squeezed_cores/dac_executor_cores)\n",
    "        reduced_exeutors_mem = math.floor(squeezed_mem/dac_executor_mem)\n",
    "        min_reduced=min(reduced_exeutors_cpu, reduced_exeutors_mem)\n",
    "        print(\"reduced_executors is : min_reduced: {}\".format(min_reduced))\n",
    "        adj_executor_instances=dac_instances - min_reduced\n",
    "\n",
    "        \n",
    "print(\"squeezed_cores:  {}, squeezed_mem is {} G\".format(squeezed_cores,squeezed_mem))\n",
    "print(\"adj_executor_instances:  {} \".format(adj_executor_instances))\n",
    "print(\"adj_cores_per_executor:  {} , adj_mem_per_executor is {}\".format(adj_cores_per_executor, adj_mem_per_executor))\n",
    "\n",
    "cores_saved_ratio = float(squeezed_cores)/cpu_a * 100\n",
    "mem_saved_ratio = float(squeezed_mem)/mem_a*100\n",
    "print(\"cores_saved_ratio:  {} %, mem_saved_ratio is {} %\".format(cores_saved_ratio,mem_saved_ratio))\n",
    "\n",
    "        "
   ]
  },
  {
   "cell_type": "code",
   "execution_count": 137,
   "id": "05150fae",
   "metadata": {},
   "outputs": [
    {
     "name": "stdout",
     "output_type": "stream",
     "text": [
      "/home/lemaker/PycharmProjects/chapter2_machine_learning/venv/bin/python3\n"
     ]
    }
   ],
   "source": []
  }
 ],
 "metadata": {
  "kernelspec": {
   "display_name": "Python 3",
   "language": "python",
   "name": "python3"
  },
  "language_info": {
   "codemirror_mode": {
    "name": "ipython",
    "version": 3
   },
   "file_extension": ".py",
   "mimetype": "text/x-python",
   "name": "python",
   "nbconvert_exporter": "python",
   "pygments_lexer": "ipython3",
   "version": "3.8.10"
  }
 },
 "nbformat": 4,
 "nbformat_minor": 5
}
